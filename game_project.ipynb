{
 "cells": [
  {
   "cell_type": "markdown",
   "id": "28bcf38a",
   "metadata": {},
   "source": [
    "# Анализ каналов привлечения"
   ]
  },
  {
   "cell_type": "markdown",
   "id": "4f73c163",
   "metadata": {},
   "source": [
    "# Описание проекта"
   ]
  },
  {
   "cell_type": "markdown",
   "id": "46a14773",
   "metadata": {},
   "source": [
    "В ходе проекта необходимо выполнить: \n",
    "- Расчет CPI и ROAS для двух маркетинговых каналов привлечения клиентов.\n",
    "- Расчитать конверсию в платящего пользователя для канала MediaSource2.\n",
    "- Сформулировать рекомендации для оптимизации рекламных компаний.\n",
    "- Описать методы и модели атрибуции.\n",
    "- Описать решение кейса с игрой.\n",
    "- Составить топ мобильных игр и описать их механику.\n",
    "\n"
   ]
  },
  {
   "cell_type": "markdown",
   "id": "ffc2c2c2",
   "metadata": {},
   "source": [
    "# 1. Изучение общей информации"
   ]
  },
  {
   "cell_type": "markdown",
   "id": "0a555814",
   "metadata": {},
   "source": [
    "## 1.1 Загрузка библиотек"
   ]
  },
  {
   "cell_type": "code",
   "execution_count": 1,
   "id": "81b1c0cb",
   "metadata": {},
   "outputs": [],
   "source": [
    "import pandas as pd\n",
    "import numpy as np\n",
    "from statsmodels.stats.proportion import proportions_ztest"
   ]
  },
  {
   "cell_type": "markdown",
   "id": "56da960f",
   "metadata": {},
   "source": [
    "## 1.2 Чтение файлов"
   ]
  },
  {
   "cell_type": "code",
   "execution_count": 2,
   "id": "0979e4ac",
   "metadata": {},
   "outputs": [],
   "source": [
    "try:\n",
    "    installs = pd.read_csv('/Users/angelinazigalova/Desktop/dataset - Installs.csv')\n",
    "    payments = pd.read_csv('/Users/angelinazigalova/Desktop/dataset - Payments.csv')\n",
    "    cost_v1 = pd.read_csv('/Users/angelinazigalova/Desktop/dataset - Cost_v1.csv')\n",
    "    cost_v2 = pd.read_csv('/Users/angelinazigalova/Desktop/dataset - Cost_v2.csv')\n",
    "except:\n",
    "    print('Не удалось открыть файлы')"
   ]
  },
  {
   "cell_type": "markdown",
   "id": "e985130e",
   "metadata": {},
   "source": [
    "## 1.3 Просмотр общей информации о данных"
   ]
  },
  {
   "cell_type": "code",
   "execution_count": 3,
   "id": "db043e3f",
   "metadata": {},
   "outputs": [
    {
     "data": {
      "text/html": [
       "<div>\n",
       "<style scoped>\n",
       "    .dataframe tbody tr th:only-of-type {\n",
       "        vertical-align: middle;\n",
       "    }\n",
       "\n",
       "    .dataframe tbody tr th {\n",
       "        vertical-align: top;\n",
       "    }\n",
       "\n",
       "    .dataframe thead th {\n",
       "        text-align: right;\n",
       "    }\n",
       "</style>\n",
       "<table border=\"1\" class=\"dataframe\">\n",
       "  <thead>\n",
       "    <tr style=\"text-align: right;\">\n",
       "      <th></th>\n",
       "      <th>MediaSource</th>\n",
       "      <th>CampaignID</th>\n",
       "      <th>Channel</th>\n",
       "      <th>Country</th>\n",
       "      <th>Wifi</th>\n",
       "      <th>UserID</th>\n",
       "      <th>OSVersion</th>\n",
       "    </tr>\n",
       "  </thead>\n",
       "  <tbody>\n",
       "    <tr>\n",
       "      <th>0</th>\n",
       "      <td>MediaSource1</td>\n",
       "      <td>19560305480</td>\n",
       "      <td>Search</td>\n",
       "      <td>AR</td>\n",
       "      <td>True</td>\n",
       "      <td>1673554038946-5942926321601974416</td>\n",
       "      <td>8</td>\n",
       "    </tr>\n",
       "    <tr>\n",
       "      <th>1</th>\n",
       "      <td>MediaSource1</td>\n",
       "      <td>19560308588</td>\n",
       "      <td>Network</td>\n",
       "      <td>ZA</td>\n",
       "      <td>True</td>\n",
       "      <td>1673647857853-6408906530696604886</td>\n",
       "      <td>8</td>\n",
       "    </tr>\n",
       "    <tr>\n",
       "      <th>2</th>\n",
       "      <td>MediaSource1</td>\n",
       "      <td>19560305480</td>\n",
       "      <td>Search</td>\n",
       "      <td>HN</td>\n",
       "      <td>False</td>\n",
       "      <td>1673645658337-5378307560700406034</td>\n",
       "      <td>8</td>\n",
       "    </tr>\n",
       "    <tr>\n",
       "      <th>3</th>\n",
       "      <td>MediaSource1</td>\n",
       "      <td>19560308588</td>\n",
       "      <td>Network</td>\n",
       "      <td>FR</td>\n",
       "      <td>True</td>\n",
       "      <td>1673642511260-6240081802543562050</td>\n",
       "      <td>8</td>\n",
       "    </tr>\n",
       "    <tr>\n",
       "      <th>4</th>\n",
       "      <td>MediaSource1</td>\n",
       "      <td>19560308588</td>\n",
       "      <td>Network</td>\n",
       "      <td>ES</td>\n",
       "      <td>True</td>\n",
       "      <td>1673641432689-6862189683515188142</td>\n",
       "      <td>8</td>\n",
       "    </tr>\n",
       "  </tbody>\n",
       "</table>\n",
       "</div>"
      ],
      "text/plain": [
       "    MediaSource   CampaignID  Channel Country   Wifi  \\\n",
       "0  MediaSource1  19560305480   Search      AR   True   \n",
       "1  MediaSource1  19560308588  Network      ZA   True   \n",
       "2  MediaSource1  19560305480   Search      HN  False   \n",
       "3  MediaSource1  19560308588  Network      FR   True   \n",
       "4  MediaSource1  19560308588  Network      ES   True   \n",
       "\n",
       "                              UserID  OSVersion  \n",
       "0  1673554038946-5942926321601974416          8  \n",
       "1  1673647857853-6408906530696604886          8  \n",
       "2  1673645658337-5378307560700406034          8  \n",
       "3  1673642511260-6240081802543562050          8  \n",
       "4  1673641432689-6862189683515188142          8  "
      ]
     },
     "execution_count": 3,
     "metadata": {},
     "output_type": "execute_result"
    }
   ],
   "source": [
    "installs.head(5)"
   ]
  },
  {
   "cell_type": "code",
   "execution_count": 4,
   "id": "a75a6bcc",
   "metadata": {},
   "outputs": [
    {
     "name": "stdout",
     "output_type": "stream",
     "text": [
      "<class 'pandas.core.frame.DataFrame'>\n",
      "RangeIndex: 22416 entries, 0 to 22415\n",
      "Data columns (total 7 columns):\n",
      " #   Column       Non-Null Count  Dtype \n",
      "---  ------       --------------  ----- \n",
      " 0   MediaSource  22416 non-null  object\n",
      " 1   CampaignID   22416 non-null  object\n",
      " 2   Channel      22416 non-null  object\n",
      " 3   Country      22409 non-null  object\n",
      " 4   Wifi         22416 non-null  bool  \n",
      " 5   UserID       22416 non-null  object\n",
      " 6   OSVersion    22416 non-null  int64 \n",
      "dtypes: bool(1), int64(1), object(5)\n",
      "memory usage: 1.0+ MB\n"
     ]
    }
   ],
   "source": [
    "installs.info()"
   ]
  },
  {
   "cell_type": "code",
   "execution_count": 5,
   "id": "ce9683c4",
   "metadata": {},
   "outputs": [
    {
     "data": {
      "text/html": [
       "<div>\n",
       "<style scoped>\n",
       "    .dataframe tbody tr th:only-of-type {\n",
       "        vertical-align: middle;\n",
       "    }\n",
       "\n",
       "    .dataframe tbody tr th {\n",
       "        vertical-align: top;\n",
       "    }\n",
       "\n",
       "    .dataframe thead th {\n",
       "        text-align: right;\n",
       "    }\n",
       "</style>\n",
       "<table border=\"1\" class=\"dataframe\">\n",
       "  <thead>\n",
       "    <tr style=\"text-align: right;\">\n",
       "      <th></th>\n",
       "      <th>UserID</th>\n",
       "      <th>PaymentRevenue</th>\n",
       "    </tr>\n",
       "  </thead>\n",
       "  <tbody>\n",
       "    <tr>\n",
       "      <th>0</th>\n",
       "      <td>1673672646759-6010710452938637680</td>\n",
       "      <td>5,826125793</td>\n",
       "    </tr>\n",
       "    <tr>\n",
       "      <th>1</th>\n",
       "      <td>1673811886533-3308641358962027481</td>\n",
       "      <td>1,163524761</td>\n",
       "    </tr>\n",
       "    <tr>\n",
       "      <th>2</th>\n",
       "      <td>1673557631838-4075714709968288531</td>\n",
       "      <td>6,056467465</td>\n",
       "    </tr>\n",
       "    <tr>\n",
       "      <th>3</th>\n",
       "      <td>1673557631838-4075714709968288531</td>\n",
       "      <td>6,056467465</td>\n",
       "    </tr>\n",
       "    <tr>\n",
       "      <th>4</th>\n",
       "      <td>1673713438526-5393379852337099847</td>\n",
       "      <td>3,832763742</td>\n",
       "    </tr>\n",
       "  </tbody>\n",
       "</table>\n",
       "</div>"
      ],
      "text/plain": [
       "                              UserID PaymentRevenue\n",
       "0  1673672646759-6010710452938637680    5,826125793\n",
       "1  1673811886533-3308641358962027481    1,163524761\n",
       "2  1673557631838-4075714709968288531    6,056467465\n",
       "3  1673557631838-4075714709968288531    6,056467465\n",
       "4  1673713438526-5393379852337099847    3,832763742"
      ]
     },
     "execution_count": 5,
     "metadata": {},
     "output_type": "execute_result"
    }
   ],
   "source": [
    "payments.head(5)"
   ]
  },
  {
   "cell_type": "code",
   "execution_count": 6,
   "id": "1d6e263c",
   "metadata": {},
   "outputs": [
    {
     "name": "stdout",
     "output_type": "stream",
     "text": [
      "<class 'pandas.core.frame.DataFrame'>\n",
      "RangeIndex: 1580 entries, 0 to 1579\n",
      "Data columns (total 2 columns):\n",
      " #   Column          Non-Null Count  Dtype \n",
      "---  ------          --------------  ----- \n",
      " 0   UserID          1580 non-null   object\n",
      " 1   PaymentRevenue  1580 non-null   object\n",
      "dtypes: object(2)\n",
      "memory usage: 24.8+ KB\n"
     ]
    }
   ],
   "source": [
    "payments.info()"
   ]
  },
  {
   "cell_type": "code",
   "execution_count": 7,
   "id": "2de50b7a",
   "metadata": {},
   "outputs": [
    {
     "data": {
      "text/html": [
       "<div>\n",
       "<style scoped>\n",
       "    .dataframe tbody tr th:only-of-type {\n",
       "        vertical-align: middle;\n",
       "    }\n",
       "\n",
       "    .dataframe tbody tr th {\n",
       "        vertical-align: top;\n",
       "    }\n",
       "\n",
       "    .dataframe thead th {\n",
       "        text-align: right;\n",
       "    }\n",
       "</style>\n",
       "<table border=\"1\" class=\"dataframe\">\n",
       "  <thead>\n",
       "    <tr style=\"text-align: right;\">\n",
       "      <th></th>\n",
       "      <th>MediaSource</th>\n",
       "      <th>CampaignID</th>\n",
       "      <th>Country</th>\n",
       "      <th>Cost</th>\n",
       "    </tr>\n",
       "  </thead>\n",
       "  <tbody>\n",
       "    <tr>\n",
       "      <th>0</th>\n",
       "      <td>MediaSource1</td>\n",
       "      <td>19560305480</td>\n",
       "      <td>UG</td>\n",
       "      <td>0,628868</td>\n",
       "    </tr>\n",
       "    <tr>\n",
       "      <th>1</th>\n",
       "      <td>MediaSource1</td>\n",
       "      <td>19560305480</td>\n",
       "      <td>MW</td>\n",
       "      <td>0,253214</td>\n",
       "    </tr>\n",
       "    <tr>\n",
       "      <th>2</th>\n",
       "      <td>MediaSource1</td>\n",
       "      <td>19560308588</td>\n",
       "      <td>NaN</td>\n",
       "      <td>0,84028</td>\n",
       "    </tr>\n",
       "    <tr>\n",
       "      <th>3</th>\n",
       "      <td>MediaSource1</td>\n",
       "      <td>19560305480</td>\n",
       "      <td>LR</td>\n",
       "      <td>0,046751</td>\n",
       "    </tr>\n",
       "    <tr>\n",
       "      <th>4</th>\n",
       "      <td>MediaSource1</td>\n",
       "      <td>19560308588</td>\n",
       "      <td>LK</td>\n",
       "      <td>0,858504</td>\n",
       "    </tr>\n",
       "  </tbody>\n",
       "</table>\n",
       "</div>"
      ],
      "text/plain": [
       "    MediaSource   CampaignID Country      Cost\n",
       "0  MediaSource1  19560305480      UG  0,628868\n",
       "1  MediaSource1  19560305480      MW  0,253214\n",
       "2  MediaSource1  19560308588     NaN   0,84028\n",
       "3  MediaSource1  19560305480      LR  0,046751\n",
       "4  MediaSource1  19560308588      LK  0,858504"
      ]
     },
     "execution_count": 7,
     "metadata": {},
     "output_type": "execute_result"
    }
   ],
   "source": [
    "cost_v1.head(5)"
   ]
  },
  {
   "cell_type": "code",
   "execution_count": 8,
   "id": "a98f4e9c",
   "metadata": {},
   "outputs": [
    {
     "name": "stdout",
     "output_type": "stream",
     "text": [
      "<class 'pandas.core.frame.DataFrame'>\n",
      "RangeIndex: 435 entries, 0 to 434\n",
      "Data columns (total 4 columns):\n",
      " #   Column       Non-Null Count  Dtype \n",
      "---  ------       --------------  ----- \n",
      " 0   MediaSource  435 non-null    object\n",
      " 1   CampaignID   435 non-null    object\n",
      " 2   Country      431 non-null    object\n",
      " 3   Cost         435 non-null    object\n",
      "dtypes: object(4)\n",
      "memory usage: 13.7+ KB\n"
     ]
    }
   ],
   "source": [
    "cost_v1.info()"
   ]
  },
  {
   "cell_type": "code",
   "execution_count": 9,
   "id": "bb3b0b5b",
   "metadata": {},
   "outputs": [
    {
     "data": {
      "text/html": [
       "<div>\n",
       "<style scoped>\n",
       "    .dataframe tbody tr th:only-of-type {\n",
       "        vertical-align: middle;\n",
       "    }\n",
       "\n",
       "    .dataframe tbody tr th {\n",
       "        vertical-align: top;\n",
       "    }\n",
       "\n",
       "    .dataframe thead th {\n",
       "        text-align: right;\n",
       "    }\n",
       "</style>\n",
       "<table border=\"1\" class=\"dataframe\">\n",
       "  <thead>\n",
       "    <tr style=\"text-align: right;\">\n",
       "      <th></th>\n",
       "      <th>MediaSource</th>\n",
       "      <th>CampaignID</th>\n",
       "      <th>Channel</th>\n",
       "      <th>Cost</th>\n",
       "    </tr>\n",
       "  </thead>\n",
       "  <tbody>\n",
       "    <tr>\n",
       "      <th>0</th>\n",
       "      <td>MediaSource1</td>\n",
       "      <td>19560308588</td>\n",
       "      <td>Network</td>\n",
       "      <td>2594,5129</td>\n",
       "    </tr>\n",
       "    <tr>\n",
       "      <th>1</th>\n",
       "      <td>MediaSource1</td>\n",
       "      <td>19560305480</td>\n",
       "      <td>Network</td>\n",
       "      <td>2661,085983</td>\n",
       "    </tr>\n",
       "    <tr>\n",
       "      <th>2</th>\n",
       "      <td>MediaSource1</td>\n",
       "      <td>19560308588</td>\n",
       "      <td>Search</td>\n",
       "      <td>1206,427759</td>\n",
       "    </tr>\n",
       "    <tr>\n",
       "      <th>3</th>\n",
       "      <td>MediaSource1</td>\n",
       "      <td>19560305480</td>\n",
       "      <td>Search</td>\n",
       "      <td>1105,145814</td>\n",
       "    </tr>\n",
       "    <tr>\n",
       "      <th>4</th>\n",
       "      <td>MediaSource1</td>\n",
       "      <td>19560305480</td>\n",
       "      <td>VideoNetwork</td>\n",
       "      <td>12,431458</td>\n",
       "    </tr>\n",
       "  </tbody>\n",
       "</table>\n",
       "</div>"
      ],
      "text/plain": [
       "    MediaSource   CampaignID       Channel         Cost\n",
       "0  MediaSource1  19560308588       Network    2594,5129\n",
       "1  MediaSource1  19560305480       Network  2661,085983\n",
       "2  MediaSource1  19560308588        Search  1206,427759\n",
       "3  MediaSource1  19560305480        Search  1105,145814\n",
       "4  MediaSource1  19560305480  VideoNetwork    12,431458"
      ]
     },
     "execution_count": 9,
     "metadata": {},
     "output_type": "execute_result"
    }
   ],
   "source": [
    "cost_v2.head(5)"
   ]
  },
  {
   "cell_type": "code",
   "execution_count": 10,
   "id": "b5d1a65e",
   "metadata": {},
   "outputs": [
    {
     "name": "stdout",
     "output_type": "stream",
     "text": [
      "<class 'pandas.core.frame.DataFrame'>\n",
      "RangeIndex: 24 entries, 0 to 23\n",
      "Data columns (total 4 columns):\n",
      " #   Column       Non-Null Count  Dtype \n",
      "---  ------       --------------  ----- \n",
      " 0   MediaSource  24 non-null     object\n",
      " 1   CampaignID   24 non-null     object\n",
      " 2   Channel      24 non-null     object\n",
      " 3   Cost         24 non-null     object\n",
      "dtypes: object(4)\n",
      "memory usage: 896.0+ bytes\n"
     ]
    }
   ],
   "source": [
    "cost_v2.info()"
   ]
  },
  {
   "cell_type": "markdown",
   "id": "db6243c9",
   "metadata": {},
   "source": [
    "В таблице installs есть пропуски в столбце со страной, их можно заполнить\n",
    "\n",
    "Неправильный тип столбца таблицы payments - PaymentRevenue\n",
    "\n",
    "В таблице cost_v1 есть пропуски в встолбце страны и не верный тип столбца Cost\n",
    "\n",
    "В таблице cost_v2 неправильный тип стообца Cost\n",
    "\n",
    "Также нужно привести названия столбцов к удобному виду"
   ]
  },
  {
   "cell_type": "markdown",
   "id": "87f7c013",
   "metadata": {},
   "source": [
    "# 2. Предобработка данных"
   ]
  },
  {
   "cell_type": "markdown",
   "id": "68dfb855",
   "metadata": {},
   "source": [
    "## 2.1 Поиск явных дубликатов"
   ]
  },
  {
   "cell_type": "code",
   "execution_count": 11,
   "id": "bfaa6bea",
   "metadata": {},
   "outputs": [
    {
     "name": "stdout",
     "output_type": "stream",
     "text": [
      "Количество найденых дубликатов: 1\n",
      "Количество найденых дубликатов: 486\n",
      "Количество найденых дубликатов: 0\n",
      "Количество найденых дубликатов: 0\n"
     ]
    }
   ],
   "source": [
    "print('Количество найденых дубликатов:', installs.duplicated().sum())\n",
    "print('Количество найденых дубликатов:', payments.duplicated().sum())\n",
    "print('Количество найденых дубликатов:', cost_v1.duplicated().sum())\n",
    "print('Количество найденых дубликатов:', cost_v2.duplicated().sum())"
   ]
  },
  {
   "cell_type": "markdown",
   "id": "6eb1b1f9",
   "metadata": {},
   "source": [
    "## 2.2 Привожу столбцы к единому виду"
   ]
  },
  {
   "cell_type": "code",
   "execution_count": 12,
   "id": "8b2ddf80",
   "metadata": {},
   "outputs": [],
   "source": [
    "installs.columns = ['media_source', 'campaign_id', 'channel', 'country', 'wifi', 'user_id', 'os_version']\n",
    "payments.columns = ['user_id', 'payment_revenue']\n",
    "cost_v1.columns = ['media_source', 'campaign_id', 'country', 'cost']\n",
    "cost_v2.columns = ['media_source', 'campaign_id', 'channel', 'cost']"
   ]
  },
  {
   "cell_type": "markdown",
   "id": "ad4cce1e",
   "metadata": {},
   "source": [
    "## 2.3  Привожу столбцы к нужному типу"
   ]
  },
  {
   "cell_type": "code",
   "execution_count": 13,
   "id": "f3e411ca",
   "metadata": {},
   "outputs": [],
   "source": [
    "cost_v1['cost'] = cost_v1['cost'].str.replace(',', '.').astype(float)\n",
    "cost_v2['cost'] = cost_v2['cost'].str.replace(',', '.').astype(float)\n",
    "payments['payment_revenue'] = payments['payment_revenue'].str.replace(',', '.').astype(float)"
   ]
  },
  {
   "cell_type": "markdown",
   "id": "fab2f331",
   "metadata": {},
   "source": [
    "# 3. Расчет CPI и ROAS"
   ]
  },
  {
   "cell_type": "markdown",
   "id": "83fdb624",
   "metadata": {},
   "source": [
    "Cost Per Install рассчитываю как затраты на рекламу/количество установок"
   ]
  },
  {
   "cell_type": "code",
   "execution_count": 14,
   "id": "65cbd719",
   "metadata": {},
   "outputs": [
    {
     "data": {
      "text/html": [
       "<div>\n",
       "<style scoped>\n",
       "    .dataframe tbody tr th:only-of-type {\n",
       "        vertical-align: middle;\n",
       "    }\n",
       "\n",
       "    .dataframe tbody tr th {\n",
       "        vertical-align: top;\n",
       "    }\n",
       "\n",
       "    .dataframe thead th {\n",
       "        text-align: right;\n",
       "    }\n",
       "</style>\n",
       "<table border=\"1\" class=\"dataframe\">\n",
       "  <thead>\n",
       "    <tr style=\"text-align: right;\">\n",
       "      <th></th>\n",
       "      <th>media_source</th>\n",
       "      <th>total_cost</th>\n",
       "    </tr>\n",
       "  </thead>\n",
       "  <tbody>\n",
       "    <tr>\n",
       "      <th>0</th>\n",
       "      <td>MediaSource1</td>\n",
       "      <td>7665.15</td>\n",
       "    </tr>\n",
       "    <tr>\n",
       "      <th>1</th>\n",
       "      <td>MediaSource2</td>\n",
       "      <td>12260.20</td>\n",
       "    </tr>\n",
       "  </tbody>\n",
       "</table>\n",
       "</div>"
      ],
      "text/plain": [
       "   media_source  total_cost\n",
       "0  MediaSource1     7665.15\n",
       "1  MediaSource2    12260.20"
      ]
     },
     "execution_count": 14,
     "metadata": {},
     "output_type": "execute_result"
    }
   ],
   "source": [
    "# Расчет затрат на рекламу для каждого источника трафика\n",
    "total_costs = cost_v1.pivot_table(index = 'media_source', values = 'cost', aggfunc = 'sum').reset_index()\n",
    "total_costs.columns = ['media_source', 'total_cost']\n",
    "total_costs['total_cost'] = round(total_costs['total_cost'], 2)\n",
    "total_costs"
   ]
  },
  {
   "cell_type": "code",
   "execution_count": 15,
   "id": "c2bbb8b4",
   "metadata": {},
   "outputs": [
    {
     "data": {
      "text/html": [
       "<div>\n",
       "<style scoped>\n",
       "    .dataframe tbody tr th:only-of-type {\n",
       "        vertical-align: middle;\n",
       "    }\n",
       "\n",
       "    .dataframe tbody tr th {\n",
       "        vertical-align: top;\n",
       "    }\n",
       "\n",
       "    .dataframe thead th {\n",
       "        text-align: right;\n",
       "    }\n",
       "</style>\n",
       "<table border=\"1\" class=\"dataframe\">\n",
       "  <thead>\n",
       "    <tr style=\"text-align: right;\">\n",
       "      <th></th>\n",
       "      <th>media_source</th>\n",
       "      <th>installs</th>\n",
       "    </tr>\n",
       "  </thead>\n",
       "  <tbody>\n",
       "    <tr>\n",
       "      <th>0</th>\n",
       "      <td>MediaSource1</td>\n",
       "      <td>19717</td>\n",
       "    </tr>\n",
       "    <tr>\n",
       "      <th>1</th>\n",
       "      <td>MediaSource2</td>\n",
       "      <td>2699</td>\n",
       "    </tr>\n",
       "  </tbody>\n",
       "</table>\n",
       "</div>"
      ],
      "text/plain": [
       "   media_source  installs\n",
       "0  MediaSource1     19717\n",
       "1  MediaSource2      2699"
      ]
     },
     "execution_count": 15,
     "metadata": {},
     "output_type": "execute_result"
    }
   ],
   "source": [
    "# Общее количество установок для каждого источника трафика\n",
    "total_installs = installs.pivot_table(index = 'media_source', values = 'user_id', aggfunc = 'count').reset_index()\n",
    "total_installs.columns = ['media_source', 'installs']\n",
    "total_installs"
   ]
  },
  {
   "cell_type": "code",
   "execution_count": 16,
   "id": "20d46d92",
   "metadata": {
    "scrolled": true
   },
   "outputs": [
    {
     "data": {
      "text/html": [
       "<div>\n",
       "<style scoped>\n",
       "    .dataframe tbody tr th:only-of-type {\n",
       "        vertical-align: middle;\n",
       "    }\n",
       "\n",
       "    .dataframe tbody tr th {\n",
       "        vertical-align: top;\n",
       "    }\n",
       "\n",
       "    .dataframe thead th {\n",
       "        text-align: right;\n",
       "    }\n",
       "</style>\n",
       "<table border=\"1\" class=\"dataframe\">\n",
       "  <thead>\n",
       "    <tr style=\"text-align: right;\">\n",
       "      <th></th>\n",
       "      <th>media_source</th>\n",
       "      <th>total_cost</th>\n",
       "      <th>installs</th>\n",
       "      <th>cpi</th>\n",
       "    </tr>\n",
       "  </thead>\n",
       "  <tbody>\n",
       "    <tr>\n",
       "      <th>0</th>\n",
       "      <td>MediaSource1</td>\n",
       "      <td>7665.15</td>\n",
       "      <td>19717</td>\n",
       "      <td>0.39</td>\n",
       "    </tr>\n",
       "    <tr>\n",
       "      <th>1</th>\n",
       "      <td>MediaSource2</td>\n",
       "      <td>12260.20</td>\n",
       "      <td>2699</td>\n",
       "      <td>4.54</td>\n",
       "    </tr>\n",
       "  </tbody>\n",
       "</table>\n",
       "</div>"
      ],
      "text/plain": [
       "   media_source  total_cost  installs   cpi\n",
       "0  MediaSource1     7665.15     19717  0.39\n",
       "1  MediaSource2    12260.20      2699  4.54"
      ]
     },
     "execution_count": 16,
     "metadata": {},
     "output_type": "execute_result"
    }
   ],
   "source": [
    "# Расчет cpi\n",
    "cpi = pd.merge(total_costs, total_installs, on='media_source', how='inner')\n",
    "cpi['cpi'] = round(cpi['total_cost'] / cpi['installs'], 2)\n",
    "cpi"
   ]
  },
  {
   "cell_type": "markdown",
   "id": "2b725dae",
   "metadata": {},
   "source": [
    "Рентабельность рекламных расходов считаю как общий доход/общие затраты на рекламу"
   ]
  },
  {
   "cell_type": "code",
   "execution_count": 17,
   "id": "bb868207",
   "metadata": {},
   "outputs": [
    {
     "data": {
      "text/html": [
       "<div>\n",
       "<style scoped>\n",
       "    .dataframe tbody tr th:only-of-type {\n",
       "        vertical-align: middle;\n",
       "    }\n",
       "\n",
       "    .dataframe tbody tr th {\n",
       "        vertical-align: top;\n",
       "    }\n",
       "\n",
       "    .dataframe thead th {\n",
       "        text-align: right;\n",
       "    }\n",
       "</style>\n",
       "<table border=\"1\" class=\"dataframe\">\n",
       "  <thead>\n",
       "    <tr style=\"text-align: right;\">\n",
       "      <th></th>\n",
       "      <th>media_source</th>\n",
       "      <th>total_cost</th>\n",
       "      <th>installs</th>\n",
       "      <th>cpi</th>\n",
       "      <th>revenue</th>\n",
       "    </tr>\n",
       "  </thead>\n",
       "  <tbody>\n",
       "    <tr>\n",
       "      <th>0</th>\n",
       "      <td>MediaSource1</td>\n",
       "      <td>7665.15</td>\n",
       "      <td>19717</td>\n",
       "      <td>0.39</td>\n",
       "      <td>4977.34</td>\n",
       "    </tr>\n",
       "    <tr>\n",
       "      <th>1</th>\n",
       "      <td>MediaSource2</td>\n",
       "      <td>12260.20</td>\n",
       "      <td>2699</td>\n",
       "      <td>4.54</td>\n",
       "      <td>6857.23</td>\n",
       "    </tr>\n",
       "  </tbody>\n",
       "</table>\n",
       "</div>"
      ],
      "text/plain": [
       "   media_source  total_cost  installs   cpi  revenue\n",
       "0  MediaSource1     7665.15     19717  0.39  4977.34\n",
       "1  MediaSource2    12260.20      2699  4.54  6857.23"
      ]
     },
     "execution_count": 17,
     "metadata": {},
     "output_type": "execute_result"
    }
   ],
   "source": [
    "# Считаю суммарный доход на каждого пользователя\n",
    "pay_per_user = payments.pivot_table(index = 'user_id', values = 'payment_revenue', aggfunc = 'sum').reset_index()\n",
    "# Для каждого пользователя определяю канал привлечения\n",
    "media_per_user = installs.pivot_table(index = 'user_id', values = 'media_source', aggfunc = 'first').reset_index()\n",
    "# Объединяю таблицы\n",
    "total_revenue = pd.merge(media_per_user, pay_per_user, on='user_id', how='inner')\n",
    "# Считаю доход для каждого канала привлечения\n",
    "revenue = total_revenue.pivot_table(index = 'media_source', values = 'payment_revenue', aggfunc = 'sum').reset_index()\n",
    "revenue.columns = ['media_source', 'revenue']\n",
    "roas = pd.merge(cpi, revenue, on='media_source', how='inner')\n",
    "roas['revenue'] = round(roas['revenue'], 2)\n",
    "roas"
   ]
  },
  {
   "cell_type": "code",
   "execution_count": 18,
   "id": "a80aeac9",
   "metadata": {},
   "outputs": [
    {
     "data": {
      "text/html": [
       "<div>\n",
       "<style scoped>\n",
       "    .dataframe tbody tr th:only-of-type {\n",
       "        vertical-align: middle;\n",
       "    }\n",
       "\n",
       "    .dataframe tbody tr th {\n",
       "        vertical-align: top;\n",
       "    }\n",
       "\n",
       "    .dataframe thead th {\n",
       "        text-align: right;\n",
       "    }\n",
       "</style>\n",
       "<table border=\"1\" class=\"dataframe\">\n",
       "  <thead>\n",
       "    <tr style=\"text-align: right;\">\n",
       "      <th></th>\n",
       "      <th>media_source</th>\n",
       "      <th>total_cost</th>\n",
       "      <th>installs</th>\n",
       "      <th>cpi</th>\n",
       "      <th>revenue</th>\n",
       "      <th>roas</th>\n",
       "    </tr>\n",
       "  </thead>\n",
       "  <tbody>\n",
       "    <tr>\n",
       "      <th>0</th>\n",
       "      <td>MediaSource1</td>\n",
       "      <td>7665.15</td>\n",
       "      <td>19717</td>\n",
       "      <td>0.39</td>\n",
       "      <td>4977.34</td>\n",
       "      <td>64.93</td>\n",
       "    </tr>\n",
       "    <tr>\n",
       "      <th>1</th>\n",
       "      <td>MediaSource2</td>\n",
       "      <td>12260.20</td>\n",
       "      <td>2699</td>\n",
       "      <td>4.54</td>\n",
       "      <td>6857.23</td>\n",
       "      <td>55.93</td>\n",
       "    </tr>\n",
       "  </tbody>\n",
       "</table>\n",
       "</div>"
      ],
      "text/plain": [
       "   media_source  total_cost  installs   cpi  revenue   roas\n",
       "0  MediaSource1     7665.15     19717  0.39  4977.34  64.93\n",
       "1  MediaSource2    12260.20      2699  4.54  6857.23  55.93"
      ]
     },
     "execution_count": 18,
     "metadata": {},
     "output_type": "execute_result"
    }
   ],
   "source": [
    "# Считаю ROAS\n",
    "roas['roas'] = round((roas['revenue']/roas['total_cost']) * 100, 2)\n",
    "roas"
   ]
  },
  {
   "cell_type": "markdown",
   "id": "19d758bf",
   "metadata": {},
   "source": [
    "Стоимость одной установки по каналу MediaSource1 - 39 цента, что в 11 раз ниже, чем инстановка по каналу MediaSource2.\n",
    "\n",
    "Окупаемость рекламы в MediaSource1 выше - почти 65%. Отрыв в 9% от MediaSource2, что достаточно значимо."
   ]
  },
  {
   "cell_type": "markdown",
   "id": "7b77d648",
   "metadata": {},
   "source": [
    "# 4. Расчет конверсии в платящего пользователя для канала MediaSource2"
   ]
  },
  {
   "cell_type": "code",
   "execution_count": 19,
   "id": "f7fe96c4",
   "metadata": {},
   "outputs": [
    {
     "data": {
      "text/html": [
       "<div>\n",
       "<style scoped>\n",
       "    .dataframe tbody tr th:only-of-type {\n",
       "        vertical-align: middle;\n",
       "    }\n",
       "\n",
       "    .dataframe tbody tr th {\n",
       "        vertical-align: top;\n",
       "    }\n",
       "\n",
       "    .dataframe thead th {\n",
       "        text-align: right;\n",
       "    }\n",
       "</style>\n",
       "<table border=\"1\" class=\"dataframe\">\n",
       "  <thead>\n",
       "    <tr style=\"text-align: right;\">\n",
       "      <th></th>\n",
       "      <th>wifi</th>\n",
       "      <th>total_installs</th>\n",
       "    </tr>\n",
       "  </thead>\n",
       "  <tbody>\n",
       "    <tr>\n",
       "      <th>0</th>\n",
       "      <td>False</td>\n",
       "      <td>988</td>\n",
       "    </tr>\n",
       "    <tr>\n",
       "      <th>1</th>\n",
       "      <td>True</td>\n",
       "      <td>1711</td>\n",
       "    </tr>\n",
       "  </tbody>\n",
       "</table>\n",
       "</div>"
      ],
      "text/plain": [
       "    wifi  total_installs\n",
       "0  False             988\n",
       "1   True            1711"
      ]
     },
     "execution_count": 19,
     "metadata": {},
     "output_type": "execute_result"
    }
   ],
   "source": [
    "# Фильтрую данные по каналу привлечения\n",
    "data = installs.query('media_source == \"MediaSource2\"')\n",
    "# Считаю установки в разбивке по wifi\n",
    "data = data.pivot_table(index = 'wifi', values = 'user_id', aggfunc = 'count').reset_index()\n",
    "data.columns = ['wifi', 'total_installs']\n",
    "data"
   ]
  },
  {
   "cell_type": "code",
   "execution_count": 20,
   "id": "c117b3f0",
   "metadata": {},
   "outputs": [
    {
     "data": {
      "text/html": [
       "<div>\n",
       "<style scoped>\n",
       "    .dataframe tbody tr th:only-of-type {\n",
       "        vertical-align: middle;\n",
       "    }\n",
       "\n",
       "    .dataframe tbody tr th {\n",
       "        vertical-align: top;\n",
       "    }\n",
       "\n",
       "    .dataframe thead th {\n",
       "        text-align: right;\n",
       "    }\n",
       "</style>\n",
       "<table border=\"1\" class=\"dataframe\">\n",
       "  <thead>\n",
       "    <tr style=\"text-align: right;\">\n",
       "      <th></th>\n",
       "      <th>wifi</th>\n",
       "      <th>total_payer</th>\n",
       "    </tr>\n",
       "  </thead>\n",
       "  <tbody>\n",
       "    <tr>\n",
       "      <th>0</th>\n",
       "      <td>False</td>\n",
       "      <td>172</td>\n",
       "    </tr>\n",
       "    <tr>\n",
       "      <th>1</th>\n",
       "      <td>True</td>\n",
       "      <td>335</td>\n",
       "    </tr>\n",
       "  </tbody>\n",
       "</table>\n",
       "</div>"
      ],
      "text/plain": [
       "    wifi  total_payer\n",
       "0  False          172\n",
       "1   True          335"
      ]
     },
     "execution_count": 20,
     "metadata": {},
     "output_type": "execute_result"
    }
   ],
   "source": [
    "# Считаю покупки в разбивке по  wifi\n",
    "payment_group = payments.pivot_table(index = 'user_id', values = 'payment_revenue', aggfunc = 'sum').reset_index()\n",
    "installs_group = installs.pivot_table(index = 'user_id', values = 'wifi', aggfunc = 'first').reset_index()\n",
    "payer = pd.merge(installs_group, payment_group, on='user_id', how='left')\n",
    "payer['payment_revenue'] = payer['payment_revenue'].fillna(0)\n",
    "payer = payer.query('payment_revenue != 0.0')\n",
    "payer = payer.pivot_table(index = 'wifi', values = 'payment_revenue', aggfunc = 'count').reset_index()\n",
    "payer.columns = ['wifi', 'total_payer']\n",
    "payer"
   ]
  },
  {
   "cell_type": "code",
   "execution_count": 21,
   "id": "02a18334",
   "metadata": {},
   "outputs": [
    {
     "data": {
      "text/html": [
       "<div>\n",
       "<style scoped>\n",
       "    .dataframe tbody tr th:only-of-type {\n",
       "        vertical-align: middle;\n",
       "    }\n",
       "\n",
       "    .dataframe tbody tr th {\n",
       "        vertical-align: top;\n",
       "    }\n",
       "\n",
       "    .dataframe thead th {\n",
       "        text-align: right;\n",
       "    }\n",
       "</style>\n",
       "<table border=\"1\" class=\"dataframe\">\n",
       "  <thead>\n",
       "    <tr style=\"text-align: right;\">\n",
       "      <th></th>\n",
       "      <th>wifi</th>\n",
       "      <th>total_installs</th>\n",
       "      <th>total_payer</th>\n",
       "      <th>conversion</th>\n",
       "    </tr>\n",
       "  </thead>\n",
       "  <tbody>\n",
       "    <tr>\n",
       "      <th>0</th>\n",
       "      <td>False</td>\n",
       "      <td>988</td>\n",
       "      <td>172</td>\n",
       "      <td>0.17</td>\n",
       "    </tr>\n",
       "    <tr>\n",
       "      <th>1</th>\n",
       "      <td>True</td>\n",
       "      <td>1711</td>\n",
       "      <td>335</td>\n",
       "      <td>0.20</td>\n",
       "    </tr>\n",
       "  </tbody>\n",
       "</table>\n",
       "</div>"
      ],
      "text/plain": [
       "    wifi  total_installs  total_payer  conversion\n",
       "0  False             988          172        0.17\n",
       "1   True            1711          335        0.20"
      ]
     },
     "execution_count": 21,
     "metadata": {},
     "output_type": "execute_result"
    }
   ],
   "source": [
    "# Считаю конверсию\n",
    "conversion = pd.merge(data, payer, on = 'wifi', how = 'inner')\n",
    "conversion['conversion'] = round(conversion['total_payer']/conversion['total_installs'], 2)\n",
    "conversion"
   ]
  },
  {
   "cell_type": "markdown",
   "id": "666813f5",
   "metadata": {},
   "source": [
    "Судя по конверсии - наличие  wifi  немного влияет на покупки.\n",
    "\n",
    "Для того, чтобы утверждение было с большой вероятность верным, необходимо провевести статистический тест на различие долей.\n",
    "\n",
    "Сформулирую нулевую и альтернативну гипотезы:\n",
    "- Н0: Доли платящих пользователей с wifi и без него равны\n",
    "- Н1: Доли не равны"
   ]
  },
  {
   "cell_type": "code",
   "execution_count": 22,
   "id": "c21be306",
   "metadata": {},
   "outputs": [
    {
     "name": "stdout",
     "output_type": "stream",
     "text": [
      "Не удалось отвергнуть гипотезу - доли равны. Z-статистика: 1.390585664759975 P-значение: 0.16435110583632384\n"
     ]
    }
   ],
   "source": [
    "# Возьму значения количества установок и покупок в каждой группе\n",
    "wifi_installs = conversion.loc[1, 'total_installs']\n",
    "no_wifi_installs = conversion.loc[0, 'total_installs']\n",
    "wifi_payer = conversion.loc[1, 'total_payer']\n",
    "no_wifi_payer = conversion.loc[0, 'total_payer']\n",
    "# провожу тест\n",
    "count = np.array([wifi_payer, no_wifi_payer])\n",
    "nobs = np.array([wifi_installs, no_wifi_installs])\n",
    "alpha = 0.05\n",
    "z_stat, p_value = proportions_ztest(count, nobs)\n",
    "\n",
    "if p_value < alpha:\n",
    "    print(\"Можно отвергнуть нулевую гипотезу - доли не равны.\", f\"Z-статистика: {z_stat}\", f\"P-значение: {p_value}\")\n",
    "else:\n",
    "    print(\"Не удалось отвергнуть гипотезу - доли равны.\", f\"Z-статистика: {z_stat}\", f\"P-значение: {p_value}\")"
   ]
  },
  {
   "cell_type": "markdown",
   "id": "23ba97c6",
   "metadata": {},
   "source": [
    "Z-статистика значительно отличается от нуля, а Р-значение меньше уровня значимости 0.05 - значит я могу утверждать, что платящих пользователей с  wifi и без него равны, что говорит, о том, что показатель конверсии показывает действительную картину - пользователи с wifi чаще совершают покупку в приложении."
   ]
  },
  {
   "cell_type": "markdown",
   "id": "2405fb52",
   "metadata": {},
   "source": [
    "# 5. Рекомендации для оптимизации рекламных компаний"
   ]
  },
  {
   "cell_type": "markdown",
   "id": "86425917",
   "metadata": {},
   "source": [
    "В первую очередь я бы перераспределил бюджет в пользу каналов, показывающих больший потенциал по ROAS - в нашем случае MediaSource1. Этоувеличит прибыль в краткосрочной перспективе. \n",
    "\n",
    "Далее можно точечно работать с отдельными показателями каналов привлечения и их количеством.\n",
    "\n",
    "Например, стоимость установки приложения для канала MediaSource2 в 11 раз больше, чем для MediaSource1. Можно поробовать снизить стоимость.\n"
   ]
  },
  {
   "cell_type": "markdown",
   "id": "819865e7",
   "metadata": {},
   "source": [
    "## 5.1 MediaSource1"
   ]
  },
  {
   "cell_type": "code",
   "execution_count": 23,
   "id": "3e54275b",
   "metadata": {
    "scrolled": true
   },
   "outputs": [
    {
     "data": {
      "text/html": [
       "<div>\n",
       "<style scoped>\n",
       "    .dataframe tbody tr th:only-of-type {\n",
       "        vertical-align: middle;\n",
       "    }\n",
       "\n",
       "    .dataframe tbody tr th {\n",
       "        vertical-align: top;\n",
       "    }\n",
       "\n",
       "    .dataframe thead th {\n",
       "        text-align: right;\n",
       "    }\n",
       "</style>\n",
       "<table border=\"1\" class=\"dataframe\">\n",
       "  <thead>\n",
       "    <tr style=\"text-align: right;\">\n",
       "      <th></th>\n",
       "      <th>country</th>\n",
       "      <th>user_id</th>\n",
       "    </tr>\n",
       "  </thead>\n",
       "  <tbody>\n",
       "    <tr>\n",
       "      <th>22</th>\n",
       "      <td>BR</td>\n",
       "      <td>3612</td>\n",
       "    </tr>\n",
       "    <tr>\n",
       "      <th>6</th>\n",
       "      <td>AR</td>\n",
       "      <td>1304</td>\n",
       "    </tr>\n",
       "    <tr>\n",
       "      <th>122</th>\n",
       "      <td>MX</td>\n",
       "      <td>1034</td>\n",
       "    </tr>\n",
       "    <tr>\n",
       "      <th>169</th>\n",
       "      <td>TR</td>\n",
       "      <td>880</td>\n",
       "    </tr>\n",
       "    <tr>\n",
       "      <th>181</th>\n",
       "      <td>VN</td>\n",
       "      <td>662</td>\n",
       "    </tr>\n",
       "    <tr>\n",
       "      <th>58</th>\n",
       "      <td>FR</td>\n",
       "      <td>591</td>\n",
       "    </tr>\n",
       "    <tr>\n",
       "      <th>33</th>\n",
       "      <td>CL</td>\n",
       "      <td>585</td>\n",
       "    </tr>\n",
       "    <tr>\n",
       "      <th>137</th>\n",
       "      <td>PL</td>\n",
       "      <td>574</td>\n",
       "    </tr>\n",
       "    <tr>\n",
       "      <th>79</th>\n",
       "      <td>ID</td>\n",
       "      <td>563</td>\n",
       "    </tr>\n",
       "    <tr>\n",
       "      <th>52</th>\n",
       "      <td>ES</td>\n",
       "      <td>536</td>\n",
       "    </tr>\n",
       "  </tbody>\n",
       "</table>\n",
       "</div>"
      ],
      "text/plain": [
       "    country  user_id\n",
       "22       BR     3612\n",
       "6        AR     1304\n",
       "122      MX     1034\n",
       "169      TR      880\n",
       "181      VN      662\n",
       "58       FR      591\n",
       "33       CL      585\n",
       "137      PL      574\n",
       "79       ID      563\n",
       "52       ES      536"
      ]
     },
     "execution_count": 23,
     "metadata": {},
     "output_type": "execute_result"
    }
   ],
   "source": [
    "df = installs.query('media_source == \"MediaSource1\"')\n",
    "df.pivot_table(index = 'country', values = 'user_id', aggfunc = 'count').reset_index().sort_values(by = 'user_id', ascending = False).head(10)"
   ]
  },
  {
   "cell_type": "markdown",
   "id": "c6cfa98f",
   "metadata": {},
   "source": [
    "MediaSource1 настроен на рекламу в разных странах"
   ]
  },
  {
   "cell_type": "markdown",
   "id": "b972fdba",
   "metadata": {},
   "source": [
    "Попробую посмотреть на показатели для MediaSource1 в разбивке по сранам"
   ]
  },
  {
   "cell_type": "code",
   "execution_count": 24,
   "id": "45267ee9",
   "metadata": {},
   "outputs": [
    {
     "data": {
      "text/html": [
       "<div>\n",
       "<style scoped>\n",
       "    .dataframe tbody tr th:only-of-type {\n",
       "        vertical-align: middle;\n",
       "    }\n",
       "\n",
       "    .dataframe tbody tr th {\n",
       "        vertical-align: top;\n",
       "    }\n",
       "\n",
       "    .dataframe thead th {\n",
       "        text-align: right;\n",
       "    }\n",
       "</style>\n",
       "<table border=\"1\" class=\"dataframe\">\n",
       "  <thead>\n",
       "    <tr style=\"text-align: right;\">\n",
       "      <th></th>\n",
       "      <th>country</th>\n",
       "      <th>total_cost</th>\n",
       "      <th>installs</th>\n",
       "      <th>cpi</th>\n",
       "      <th>revenue</th>\n",
       "      <th>roas</th>\n",
       "    </tr>\n",
       "  </thead>\n",
       "  <tbody>\n",
       "    <tr>\n",
       "      <th>7</th>\n",
       "      <td>BR</td>\n",
       "      <td>711.88</td>\n",
       "      <td>3612</td>\n",
       "      <td>0.20</td>\n",
       "      <td>529.15</td>\n",
       "      <td>74.33</td>\n",
       "    </tr>\n",
       "    <tr>\n",
       "      <th>1</th>\n",
       "      <td>AR</td>\n",
       "      <td>139.52</td>\n",
       "      <td>1304</td>\n",
       "      <td>0.11</td>\n",
       "      <td>62.01</td>\n",
       "      <td>44.45</td>\n",
       "    </tr>\n",
       "    <tr>\n",
       "      <th>38</th>\n",
       "      <td>MX</td>\n",
       "      <td>212.01</td>\n",
       "      <td>1034</td>\n",
       "      <td>0.21</td>\n",
       "      <td>311.07</td>\n",
       "      <td>146.72</td>\n",
       "    </tr>\n",
       "    <tr>\n",
       "      <th>57</th>\n",
       "      <td>TR</td>\n",
       "      <td>232.41</td>\n",
       "      <td>880</td>\n",
       "      <td>0.26</td>\n",
       "      <td>97.18</td>\n",
       "      <td>41.81</td>\n",
       "    </tr>\n",
       "    <tr>\n",
       "      <th>62</th>\n",
       "      <td>VN</td>\n",
       "      <td>167.70</td>\n",
       "      <td>662</td>\n",
       "      <td>0.25</td>\n",
       "      <td>98.57</td>\n",
       "      <td>58.78</td>\n",
       "    </tr>\n",
       "    <tr>\n",
       "      <th>22</th>\n",
       "      <td>FR</td>\n",
       "      <td>560.03</td>\n",
       "      <td>591</td>\n",
       "      <td>0.95</td>\n",
       "      <td>315.50</td>\n",
       "      <td>56.34</td>\n",
       "    </tr>\n",
       "    <tr>\n",
       "      <th>9</th>\n",
       "      <td>CL</td>\n",
       "      <td>170.50</td>\n",
       "      <td>585</td>\n",
       "      <td>0.29</td>\n",
       "      <td>262.11</td>\n",
       "      <td>153.73</td>\n",
       "    </tr>\n",
       "    <tr>\n",
       "      <th>48</th>\n",
       "      <td>PL</td>\n",
       "      <td>234.40</td>\n",
       "      <td>574</td>\n",
       "      <td>0.41</td>\n",
       "      <td>319.74</td>\n",
       "      <td>136.41</td>\n",
       "    </tr>\n",
       "    <tr>\n",
       "      <th>27</th>\n",
       "      <td>ID</td>\n",
       "      <td>168.29</td>\n",
       "      <td>563</td>\n",
       "      <td>0.30</td>\n",
       "      <td>29.51</td>\n",
       "      <td>17.54</td>\n",
       "    </tr>\n",
       "    <tr>\n",
       "      <th>21</th>\n",
       "      <td>ES</td>\n",
       "      <td>253.36</td>\n",
       "      <td>536</td>\n",
       "      <td>0.47</td>\n",
       "      <td>74.28</td>\n",
       "      <td>29.32</td>\n",
       "    </tr>\n",
       "    <tr>\n",
       "      <th>47</th>\n",
       "      <td>PH</td>\n",
       "      <td>158.46</td>\n",
       "      <td>508</td>\n",
       "      <td>0.31</td>\n",
       "      <td>18.02</td>\n",
       "      <td>11.37</td>\n",
       "    </tr>\n",
       "    <tr>\n",
       "      <th>32</th>\n",
       "      <td>KZ</td>\n",
       "      <td>112.22</td>\n",
       "      <td>505</td>\n",
       "      <td>0.22</td>\n",
       "      <td>68.07</td>\n",
       "      <td>60.66</td>\n",
       "    </tr>\n",
       "    <tr>\n",
       "      <th>10</th>\n",
       "      <td>CO</td>\n",
       "      <td>67.74</td>\n",
       "      <td>429</td>\n",
       "      <td>0.16</td>\n",
       "      <td>33.82</td>\n",
       "      <td>49.93</td>\n",
       "    </tr>\n",
       "    <tr>\n",
       "      <th>56</th>\n",
       "      <td>TH</td>\n",
       "      <td>141.94</td>\n",
       "      <td>409</td>\n",
       "      <td>0.35</td>\n",
       "      <td>35.46</td>\n",
       "      <td>24.98</td>\n",
       "    </tr>\n",
       "    <tr>\n",
       "      <th>14</th>\n",
       "      <td>DE</td>\n",
       "      <td>396.04</td>\n",
       "      <td>388</td>\n",
       "      <td>1.02</td>\n",
       "      <td>361.80</td>\n",
       "      <td>91.35</td>\n",
       "    </tr>\n",
       "    <tr>\n",
       "      <th>31</th>\n",
       "      <td>KR</td>\n",
       "      <td>848.43</td>\n",
       "      <td>363</td>\n",
       "      <td>2.34</td>\n",
       "      <td>377.67</td>\n",
       "      <td>44.51</td>\n",
       "    </tr>\n",
       "    <tr>\n",
       "      <th>60</th>\n",
       "      <td>US</td>\n",
       "      <td>538.41</td>\n",
       "      <td>315</td>\n",
       "      <td>1.71</td>\n",
       "      <td>7103.74</td>\n",
       "      <td>1319.39</td>\n",
       "    </tr>\n",
       "  </tbody>\n",
       "</table>\n",
       "</div>"
      ],
      "text/plain": [
       "   country  total_cost  installs   cpi  revenue     roas\n",
       "7       BR      711.88      3612  0.20   529.15    74.33\n",
       "1       AR      139.52      1304  0.11    62.01    44.45\n",
       "38      MX      212.01      1034  0.21   311.07   146.72\n",
       "57      TR      232.41       880  0.26    97.18    41.81\n",
       "62      VN      167.70       662  0.25    98.57    58.78\n",
       "22      FR      560.03       591  0.95   315.50    56.34\n",
       "9       CL      170.50       585  0.29   262.11   153.73\n",
       "48      PL      234.40       574  0.41   319.74   136.41\n",
       "27      ID      168.29       563  0.30    29.51    17.54\n",
       "21      ES      253.36       536  0.47    74.28    29.32\n",
       "47      PH      158.46       508  0.31    18.02    11.37\n",
       "32      KZ      112.22       505  0.22    68.07    60.66\n",
       "10      CO       67.74       429  0.16    33.82    49.93\n",
       "56      TH      141.94       409  0.35    35.46    24.98\n",
       "14      DE      396.04       388  1.02   361.80    91.35\n",
       "31      KR      848.43       363  2.34   377.67    44.51\n",
       "60      US      538.41       315  1.71  7103.74  1319.39"
      ]
     },
     "execution_count": 24,
     "metadata": {},
     "output_type": "execute_result"
    }
   ],
   "source": [
    "total_costs =  cost_v1.query('media_source == \"MediaSource1\"')\n",
    "total_costs = total_costs.pivot_table(index = 'country', values = 'cost', aggfunc = 'sum').reset_index()\n",
    "total_costs.columns = ['country', 'total_cost']\n",
    "total_costs['total_cost'] = round(total_costs['total_cost'], 2)\n",
    "total_installs =  installs.query('media_source == \"MediaSource1\"')\n",
    "total_installs = total_installs.pivot_table(index = 'country', values = 'user_id', aggfunc = 'count').reset_index()\n",
    "total_installs.columns = ['country', 'installs']\n",
    "cpi = pd.merge(total_costs, total_installs, on='country', how='inner')\n",
    "cpi['cpi'] = round(cpi['total_cost'] / cpi['installs'], 2)\n",
    "pay_per_user = payments.pivot_table(index = 'user_id', values = 'payment_revenue', aggfunc = 'sum').reset_index()\n",
    "country_per_user = installs.pivot_table(index = 'user_id', values = 'country', aggfunc = 'first').reset_index()\n",
    "total_revenue = pd.merge(country_per_user, pay_per_user, on='user_id', how='inner')\n",
    "revenue = total_revenue.pivot_table(index = 'country', values = 'payment_revenue', aggfunc = 'sum').reset_index()\n",
    "revenue.columns = ['country', 'revenue']\n",
    "roas = pd.merge(cpi, revenue, on='country', how='inner')\n",
    "roas['revenue'] = round(roas['revenue'], 2)\n",
    "roas['roas'] = round((roas['revenue']/roas['total_cost']) * 100, 2)\n",
    "roas.sort_values(by = ['installs', 'roas'], ascending = False).head(17)"
   ]
  },
  {
   "cell_type": "markdown",
   "id": "dd782dbc",
   "metadata": {},
   "source": [
    "Средний показатель roas для канала - 65.\n",
    "\n",
    "Можно выделить Бразилию, Мексику, Чили и Польшу - оккупаемость в этих сранах превышает среднюю по каналу, значит бюджет рекламных расходов для этих стран можно увеличить.\n",
    "\n",
    "Интересно, что реклама идет и на рынок США, причем с достаточно дешевой установкой, что показывает огромную окупаемость. Правда, это может быть связано с использованием  VPN.\n",
    "\n",
    "Посмотрим на показатели каналов"
   ]
  },
  {
   "cell_type": "code",
   "execution_count": 25,
   "id": "ed0248eb",
   "metadata": {},
   "outputs": [
    {
     "data": {
      "text/html": [
       "<div>\n",
       "<style scoped>\n",
       "    .dataframe tbody tr th:only-of-type {\n",
       "        vertical-align: middle;\n",
       "    }\n",
       "\n",
       "    .dataframe tbody tr th {\n",
       "        vertical-align: top;\n",
       "    }\n",
       "\n",
       "    .dataframe thead th {\n",
       "        text-align: right;\n",
       "    }\n",
       "</style>\n",
       "<table border=\"1\" class=\"dataframe\">\n",
       "  <thead>\n",
       "    <tr style=\"text-align: right;\">\n",
       "      <th></th>\n",
       "      <th>channel</th>\n",
       "      <th>total_cost</th>\n",
       "      <th>installs</th>\n",
       "      <th>cpi</th>\n",
       "      <th>revenue</th>\n",
       "      <th>roas</th>\n",
       "    </tr>\n",
       "  </thead>\n",
       "  <tbody>\n",
       "    <tr>\n",
       "      <th>0</th>\n",
       "      <td>Network</td>\n",
       "      <td>5255.60</td>\n",
       "      <td>13324</td>\n",
       "      <td>0.39</td>\n",
       "      <td>3538.23</td>\n",
       "      <td>67.32</td>\n",
       "    </tr>\n",
       "    <tr>\n",
       "      <th>1</th>\n",
       "      <td>Search</td>\n",
       "      <td>2311.57</td>\n",
       "      <td>6342</td>\n",
       "      <td>0.36</td>\n",
       "      <td>1428.60</td>\n",
       "      <td>61.80</td>\n",
       "    </tr>\n",
       "    <tr>\n",
       "      <th>2</th>\n",
       "      <td>VideoNetwork</td>\n",
       "      <td>99.03</td>\n",
       "      <td>51</td>\n",
       "      <td>1.94</td>\n",
       "      <td>10.52</td>\n",
       "      <td>10.62</td>\n",
       "    </tr>\n",
       "  </tbody>\n",
       "</table>\n",
       "</div>"
      ],
      "text/plain": [
       "        channel  total_cost  installs   cpi  revenue   roas\n",
       "0       Network     5255.60     13324  0.39  3538.23  67.32\n",
       "1        Search     2311.57      6342  0.36  1428.60  61.80\n",
       "2  VideoNetwork       99.03        51  1.94    10.52  10.62"
      ]
     },
     "execution_count": 25,
     "metadata": {},
     "output_type": "execute_result"
    }
   ],
   "source": [
    "total_costs =  cost_v2.query('media_source == \"MediaSource1\"')\n",
    "total_costs = total_costs.pivot_table(index = 'channel', values = 'cost', aggfunc = 'sum').reset_index()\n",
    "total_costs.columns = ['channel', 'total_cost']\n",
    "total_costs['total_cost'] = round(total_costs['total_cost'], 2)\n",
    "total_installs =  installs.query('media_source == \"MediaSource1\"')\n",
    "total_installs = total_installs.pivot_table(index = 'channel', values = 'user_id', aggfunc = 'count').reset_index()\n",
    "total_installs.columns = ['channel', 'installs']\n",
    "cpi = pd.merge(total_costs, total_installs, on='channel', how='inner')\n",
    "cpi['cpi'] = round(cpi['total_cost'] / cpi['installs'], 2)\n",
    "pay_per_user = payments.pivot_table(index = 'user_id', values = 'payment_revenue', aggfunc = 'sum').reset_index()\n",
    "channel_per_user = installs.pivot_table(index = 'user_id', values = 'channel', aggfunc = 'first').reset_index()\n",
    "total_revenue = pd.merge(channel_per_user, pay_per_user, on='user_id', how='inner')\n",
    "revenue = total_revenue.pivot_table(index = 'channel', values = 'payment_revenue', aggfunc = 'sum').reset_index()\n",
    "revenue.columns = ['channel', 'revenue']\n",
    "roas = pd.merge(cpi, revenue, on='channel', how='inner')\n",
    "roas['revenue'] = round(roas['revenue'], 2)\n",
    "roas['roas'] = round((roas['revenue']/roas['total_cost']) * 100, 2)\n",
    "roas"
   ]
  },
  {
   "cell_type": "markdown",
   "id": "ca8f9965",
   "metadata": {},
   "source": [
    "Бюджет расходуется на самый выгодный канал Network"
   ]
  },
  {
   "cell_type": "markdown",
   "id": "ee8301e8",
   "metadata": {},
   "source": [
    "## 5.2 MediaSource2"
   ]
  },
  {
   "cell_type": "code",
   "execution_count": 26,
   "id": "e1a448e9",
   "metadata": {},
   "outputs": [
    {
     "data": {
      "text/html": [
       "<div>\n",
       "<style scoped>\n",
       "    .dataframe tbody tr th:only-of-type {\n",
       "        vertical-align: middle;\n",
       "    }\n",
       "\n",
       "    .dataframe tbody tr th {\n",
       "        vertical-align: top;\n",
       "    }\n",
       "\n",
       "    .dataframe thead th {\n",
       "        text-align: right;\n",
       "    }\n",
       "</style>\n",
       "<table border=\"1\" class=\"dataframe\">\n",
       "  <thead>\n",
       "    <tr style=\"text-align: right;\">\n",
       "      <th></th>\n",
       "      <th>country</th>\n",
       "      <th>user_id</th>\n",
       "    </tr>\n",
       "  </thead>\n",
       "  <tbody>\n",
       "    <tr>\n",
       "      <th>8</th>\n",
       "      <td>US</td>\n",
       "      <td>2687</td>\n",
       "    </tr>\n",
       "    <tr>\n",
       "      <th>3</th>\n",
       "      <td>MX</td>\n",
       "      <td>3</td>\n",
       "    </tr>\n",
       "    <tr>\n",
       "      <th>1</th>\n",
       "      <td>CA</td>\n",
       "      <td>2</td>\n",
       "    </tr>\n",
       "    <tr>\n",
       "      <th>0</th>\n",
       "      <td>AR</td>\n",
       "      <td>1</td>\n",
       "    </tr>\n",
       "    <tr>\n",
       "      <th>2</th>\n",
       "      <td>CO</td>\n",
       "      <td>1</td>\n",
       "    </tr>\n",
       "  </tbody>\n",
       "</table>\n",
       "</div>"
      ],
      "text/plain": [
       "  country  user_id\n",
       "8      US     2687\n",
       "3      MX        3\n",
       "1      CA        2\n",
       "0      AR        1\n",
       "2      CO        1"
      ]
     },
     "execution_count": 26,
     "metadata": {},
     "output_type": "execute_result"
    }
   ],
   "source": [
    "dff = installs.query('media_source == \"MediaSource2\"')\n",
    "dff.pivot_table(index = 'country', values = 'user_id', aggfunc = 'count').reset_index().sort_values(by = 'user_id', ascending = False).head(5)"
   ]
  },
  {
   "cell_type": "markdown",
   "id": "99bb7ce8",
   "metadata": {},
   "source": [
    "MediaSource2 фактичеки настроен только на США. Это объясняет дороговизну установки.\n",
    "\n",
    "Попробую посмотреть на каналы"
   ]
  },
  {
   "cell_type": "code",
   "execution_count": 27,
   "id": "4d5d533e",
   "metadata": {},
   "outputs": [
    {
     "data": {
      "text/html": [
       "<div>\n",
       "<style scoped>\n",
       "    .dataframe tbody tr th:only-of-type {\n",
       "        vertical-align: middle;\n",
       "    }\n",
       "\n",
       "    .dataframe tbody tr th {\n",
       "        vertical-align: top;\n",
       "    }\n",
       "\n",
       "    .dataframe thead th {\n",
       "        text-align: right;\n",
       "    }\n",
       "</style>\n",
       "<table border=\"1\" class=\"dataframe\">\n",
       "  <thead>\n",
       "    <tr style=\"text-align: right;\">\n",
       "      <th></th>\n",
       "      <th>channel</th>\n",
       "      <th>total_cost</th>\n",
       "      <th>installs</th>\n",
       "      <th>cpi</th>\n",
       "      <th>revenue</th>\n",
       "      <th>roas</th>\n",
       "    </tr>\n",
       "  </thead>\n",
       "  <tbody>\n",
       "    <tr>\n",
       "      <th>8</th>\n",
       "      <td>IRONSOURCE</td>\n",
       "      <td>3789.68</td>\n",
       "      <td>912</td>\n",
       "      <td>4.16</td>\n",
       "      <td>1536.54</td>\n",
       "      <td>40.55</td>\n",
       "    </tr>\n",
       "    <tr>\n",
       "      <th>2</th>\n",
       "      <td>APPLOVIN</td>\n",
       "      <td>2351.20</td>\n",
       "      <td>567</td>\n",
       "      <td>4.15</td>\n",
       "      <td>1147.90</td>\n",
       "      <td>48.82</td>\n",
       "    </tr>\n",
       "    <tr>\n",
       "      <th>12</th>\n",
       "      <td>UNITY</td>\n",
       "      <td>2238.40</td>\n",
       "      <td>503</td>\n",
       "      <td>4.45</td>\n",
       "      <td>551.08</td>\n",
       "      <td>24.62</td>\n",
       "    </tr>\n",
       "    <tr>\n",
       "      <th>6</th>\n",
       "      <td>FYBER</td>\n",
       "      <td>1022.04</td>\n",
       "      <td>202</td>\n",
       "      <td>5.06</td>\n",
       "      <td>92.81</td>\n",
       "      <td>9.08</td>\n",
       "    </tr>\n",
       "    <tr>\n",
       "      <th>7</th>\n",
       "      <td>INMOBI</td>\n",
       "      <td>622.11</td>\n",
       "      <td>116</td>\n",
       "      <td>5.36</td>\n",
       "      <td>404.18</td>\n",
       "      <td>64.97</td>\n",
       "    </tr>\n",
       "    <tr>\n",
       "      <th>1</th>\n",
       "      <td>ADX</td>\n",
       "      <td>504.71</td>\n",
       "      <td>77</td>\n",
       "      <td>6.55</td>\n",
       "      <td>67.88</td>\n",
       "      <td>13.45</td>\n",
       "    </tr>\n",
       "    <tr>\n",
       "      <th>0</th>\n",
       "      <td>ADCOLONY</td>\n",
       "      <td>449.97</td>\n",
       "      <td>58</td>\n",
       "      <td>7.76</td>\n",
       "      <td>65.85</td>\n",
       "      <td>14.63</td>\n",
       "    </tr>\n",
       "    <tr>\n",
       "      <th>13</th>\n",
       "      <td>VUNGLE</td>\n",
       "      <td>388.37</td>\n",
       "      <td>75</td>\n",
       "      <td>5.18</td>\n",
       "      <td>373.40</td>\n",
       "      <td>96.15</td>\n",
       "    </tr>\n",
       "    <tr>\n",
       "      <th>11</th>\n",
       "      <td>TAPJOY</td>\n",
       "      <td>337.86</td>\n",
       "      <td>52</td>\n",
       "      <td>6.50</td>\n",
       "      <td>44.89</td>\n",
       "      <td>13.29</td>\n",
       "    </tr>\n",
       "    <tr>\n",
       "      <th>5</th>\n",
       "      <td>CHARTBOOST</td>\n",
       "      <td>241.75</td>\n",
       "      <td>27</td>\n",
       "      <td>8.95</td>\n",
       "      <td>33.96</td>\n",
       "      <td>14.05</td>\n",
       "    </tr>\n",
       "    <tr>\n",
       "      <th>10</th>\n",
       "      <td>SAMSUNG</td>\n",
       "      <td>130.36</td>\n",
       "      <td>60</td>\n",
       "      <td>2.17</td>\n",
       "      <td>143.72</td>\n",
       "      <td>110.25</td>\n",
       "    </tr>\n",
       "    <tr>\n",
       "      <th>4</th>\n",
       "      <td>APS</td>\n",
       "      <td>75.72</td>\n",
       "      <td>26</td>\n",
       "      <td>2.91</td>\n",
       "      <td>19.97</td>\n",
       "      <td>26.37</td>\n",
       "    </tr>\n",
       "    <tr>\n",
       "      <th>3</th>\n",
       "      <td>APPODEAL</td>\n",
       "      <td>74.86</td>\n",
       "      <td>17</td>\n",
       "      <td>4.40</td>\n",
       "      <td>167.85</td>\n",
       "      <td>224.22</td>\n",
       "    </tr>\n",
       "    <tr>\n",
       "      <th>9</th>\n",
       "      <td>PUBMATIC</td>\n",
       "      <td>5.46</td>\n",
       "      <td>3</td>\n",
       "      <td>1.82</td>\n",
       "      <td>2207.20</td>\n",
       "      <td>40424.91</td>\n",
       "    </tr>\n",
       "  </tbody>\n",
       "</table>\n",
       "</div>"
      ],
      "text/plain": [
       "       channel  total_cost  installs   cpi  revenue      roas\n",
       "8   IRONSOURCE     3789.68       912  4.16  1536.54     40.55\n",
       "2     APPLOVIN     2351.20       567  4.15  1147.90     48.82\n",
       "12       UNITY     2238.40       503  4.45   551.08     24.62\n",
       "6        FYBER     1022.04       202  5.06    92.81      9.08\n",
       "7       INMOBI      622.11       116  5.36   404.18     64.97\n",
       "1          ADX      504.71        77  6.55    67.88     13.45\n",
       "0     ADCOLONY      449.97        58  7.76    65.85     14.63\n",
       "13      VUNGLE      388.37        75  5.18   373.40     96.15\n",
       "11      TAPJOY      337.86        52  6.50    44.89     13.29\n",
       "5   CHARTBOOST      241.75        27  8.95    33.96     14.05\n",
       "10     SAMSUNG      130.36        60  2.17   143.72    110.25\n",
       "4          APS       75.72        26  2.91    19.97     26.37\n",
       "3     APPODEAL       74.86        17  4.40   167.85    224.22\n",
       "9     PUBMATIC        5.46         3  1.82  2207.20  40424.91"
      ]
     },
     "execution_count": 27,
     "metadata": {},
     "output_type": "execute_result"
    }
   ],
   "source": [
    "total_costs =  cost_v2.query('media_source == \"MediaSource2\"')\n",
    "total_costs = total_costs.pivot_table(index = 'channel', values = 'cost', aggfunc = 'sum').reset_index()\n",
    "total_costs.columns = ['channel', 'total_cost']\n",
    "total_costs['total_cost'] = round(total_costs['total_cost'], 2)\n",
    "total_installs =  installs.query('media_source == \"MediaSource2\"')\n",
    "total_installs = total_installs.pivot_table(index = 'channel', values = 'user_id', aggfunc = 'count').reset_index()\n",
    "total_installs.columns = ['channel', 'installs']\n",
    "cpi = pd.merge(total_costs, total_installs, on='channel', how='inner')\n",
    "cpi['cpi'] = round(cpi['total_cost'] / cpi['installs'], 2)\n",
    "pay_per_user = payments.pivot_table(index = 'user_id', values = 'payment_revenue', aggfunc = 'sum').reset_index()\n",
    "channel_per_user = installs.pivot_table(index = 'user_id', values = 'channel', aggfunc = 'first').reset_index()\n",
    "total_revenue = pd.merge(channel_per_user, pay_per_user, on='user_id', how='inner')\n",
    "revenue = total_revenue.pivot_table(index = 'channel', values = 'payment_revenue', aggfunc = 'sum').reset_index()\n",
    "revenue.columns = ['channel', 'revenue']\n",
    "roas = pd.merge(cpi, revenue, on='channel', how='inner')\n",
    "roas['revenue'] = round(roas['revenue'], 2)\n",
    "roas['roas'] = round((roas['revenue']/roas['total_cost']) * 100, 2)\n",
    "roas.sort_values(by = 'total_cost', ascending = False)"
   ]
  },
  {
   "cell_type": "markdown",
   "id": "36a76030",
   "metadata": {},
   "source": [
    "В среднем оккупаемость ремкламы для MediaSource2 - 56.\n",
    "\n",
    "Рекламные платформы INMOBI и VUNGLE показывают хороший результат оккупаемости рекламы. Стоит перераспределить финансирование в их пользу."
   ]
  },
  {
   "cell_type": "markdown",
   "id": "e7819282",
   "metadata": {},
   "source": [
    "# 6. Методы и модели атрибуции"
   ]
  },
  {
   "cell_type": "markdown",
   "id": "c9192677",
   "metadata": {},
   "source": [
    "1. IDFA\n",
    "Используется для отслеживания пользователя в мобильной рекламе, позволяет отслеживать, откуда пришли пользователи и какие источники рекламы были эффективны.\n",
    "\n",
    "Из преимуществ можно выделить точное отслеживание пользователей и их взаимодейсвие с рекламой.\n",
    "\n",
    "2. SDK\n",
    "\n",
    "Позволяет получать более детальные данные - события в приложении, конверсии и другие метрики.\n",
    "\n",
    "Из преимуществ можно выделить наличи дополнительнх данных и гибкость в настройке."
   ]
  },
  {
   "cell_type": "markdown",
   "id": "b8af4f8c",
   "metadata": {},
   "source": [
    "# 7. Игра"
   ]
  },
  {
   "cell_type": "markdown",
   "id": "23c8ac05",
   "metadata": {},
   "source": [
    "Можно попробовать метод Монте-Карло и в ходе симуляции посмотреть на вероятность прохождения каждого уровня."
   ]
  },
  {
   "cell_type": "markdown",
   "id": "e0cf9098",
   "metadata": {},
   "source": [
    "# 8. Топ мобильных игр"
   ]
  },
  {
   "cell_type": "markdown",
   "id": "df20e71c",
   "metadata": {},
   "source": [
    "1. Mushroom Wars 2. PVP игра, где игроку необходимо захватывать здания противника - руководить своей экономикой и моралью войск. Все игроки начинают игру с одинаковым положением и побеждает тот, кто предугадает действия противника и сможет завоевать все его постройки. Можно играть 1 на 1, втроем или вчетвером каждый сам за себя, или командами 2 на 2.\n",
    "2. Rebel Inc. Стратегическая игра за губернатора региона. Игроку выделяется бюджет и он должен его верно распределить между инициативами для мирного населения, инфраструкторой и войной с мятежниками. Необходимо полность стабилизировать регион. В игре предполагаются разные губернаторы и помощники, дающие разные бонусы.\n",
    "3. Plague Inc. Игра от того же разработчика с такой же механикой. Тут необходимо изобрести лекарство от болезни. Ты также распоряжаешься своим бюджетом и делаешь приоритетный выбор.\n",
    "4. Wild Rift. MOBA игра, где игроки играют в команде 5 на 5 и должны разрушить трон противника. У каждого игрока своя роль - помощь, поглащение урона или атака. Победа зависит от заработанного золота за убийство крипов или героев и купленных предметов."
   ]
  },
  {
   "cell_type": "code",
   "execution_count": null,
   "id": "76e70caa",
   "metadata": {},
   "outputs": [],
   "source": []
  }
 ],
 "metadata": {
  "kernelspec": {
   "display_name": "Python 3 (ipykernel)",
   "language": "python",
   "name": "python3"
  },
  "language_info": {
   "codemirror_mode": {
    "name": "ipython",
    "version": 3
   },
   "file_extension": ".py",
   "mimetype": "text/x-python",
   "name": "python",
   "nbconvert_exporter": "python",
   "pygments_lexer": "ipython3",
   "version": "3.9.13"
  }
 },
 "nbformat": 4,
 "nbformat_minor": 5
}
